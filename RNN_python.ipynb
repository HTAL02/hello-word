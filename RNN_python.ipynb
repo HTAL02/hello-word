{
  "cells": [
    {
      "cell_type": "markdown",
      "metadata": {
        "id": "view-in-github",
        "colab_type": "text"
      },
      "source": [
        "<a href=\"https://colab.research.google.com/github/HTAL02/hello-word/blob/main/RNN_python.ipynb\" target=\"_parent\"><img src=\"https://colab.research.google.com/assets/colab-badge.svg\" alt=\"Open In Colab\"/></a>"
      ]
    },
    {
      "cell_type": "markdown",
      "metadata": {
        "id": "CnyP1wtit_9d"
      },
      "source": [
        "Importation des librairies"
      ]
    },
    {
      "cell_type": "code",
      "execution_count": null,
      "metadata": {
        "id": "dOTpn4c-t_9s"
      },
      "outputs": [],
      "source": [
        "import numpy as np\n",
        "import math\n",
        "#import matplotlib.pyplot as plt\n",
        "import random\n",
        "import time"
      ]
    },
    {
      "cell_type": "markdown",
      "metadata": {
        "id": "fWf5zILvt_9x"
      },
      "source": [
        "Génération du jeu de données"
      ]
    },
    {
      "cell_type": "code",
      "execution_count": null,
      "metadata": {
        "id": "SHrYyYX-t_9z"
      },
      "outputs": [],
      "source": [
        "sin_wave = np.array([math.sin(x) for x in np.arange(200)]) #vecteur de sinsus de 0 à 199\n",
        "\n",
        "#visualise sine_wave\n",
        "#plt.plot(sin_wave[:50])\n",
        "#plt.show()"
      ]
    },
    {
      "cell_type": "code",
      "execution_count": null,
      "metadata": {
        "colab": {
          "base_uri": "https://localhost:8080/"
        },
        "id": "54UmSrfzt_92",
        "outputId": "40728a64-fdca-4afc-a708-db91b48583b3"
      },
      "outputs": [
        {
          "output_type": "execute_result",
          "data": {
            "text/plain": [
              "(1,)"
            ]
          },
          "metadata": {},
          "execution_count": 35
        }
      ],
      "source": [
        "#creating data\n",
        "def create_data(sin_wave):\n",
        "    X = []\n",
        "    Y = []\n",
        "\n",
        "    seq_len = 50\n",
        "    num_records = len(sin_wave) - seq_len\n",
        "\n",
        "    for i in range(num_records - 50):\n",
        "        X.append(sin_wave[i:i+seq_len])\n",
        "        Y.append(sin_wave[i+seq_len])\n",
        "        \n",
        "    X = np.array(X)\n",
        "    X = np.expand_dims(X, axis=2)\n",
        "\n",
        "    Y = np.array(Y)\n",
        "    Y = np.expand_dims(Y, axis=1)\n",
        "    return X, Y\n",
        "\n",
        "X, Y = create_data(sin_wave)\n",
        "\n",
        "Y[1].shape"
      ]
    },
    {
      "cell_type": "markdown",
      "metadata": {
        "id": "7wPYDh4wt_94"
      },
      "source": [
        "Initialisation des matrices de poids"
      ]
    },
    {
      "cell_type": "code",
      "execution_count": null,
      "metadata": {
        "id": "hk32Avkwt_96"
      },
      "outputs": [],
      "source": [
        "def init_weigth(hidden_dim,output_dim , seq_lenth):\n",
        "    U = np.random.uniform(0, 1, (hidden_dim, seq_lenth))\n",
        "    W = np.random.uniform(0, 1, (hidden_dim, hidden_dim))\n",
        "    V = np.random.uniform(0, 1, (output_dim, hidden_dim))\n",
        "    weigth = dict(U = U, W = W, V = V)\n",
        "    return weigth"
      ]
    },
    {
      "cell_type": "markdown",
      "metadata": {
        "id": "YZhTRMglt_98"
      },
      "source": [
        "Definition des fonctions d'activation"
      ]
    },
    {
      "cell_type": "code",
      "execution_count": null,
      "metadata": {
        "id": "9XNdBo8-t_9-"
      },
      "outputs": [],
      "source": [
        "def fw_sigmoid(x):\n",
        "    return 1. / (1. + np.exp(-x))\n",
        "\n",
        "def bw_sigmoid(x, output):\n",
        "    return output * (1. - output) * x\n",
        "    "
      ]
    },
    {
      "cell_type": "markdown",
      "metadata": {
        "id": "GqbY-GUet_-A"
      },
      "source": [
        "Propagation avant"
      ]
    },
    {
      "cell_type": "code",
      "execution_count": null,
      "metadata": {
        "id": "Y63SODRqt_-B"
      },
      "outputs": [],
      "source": [
        "def foward_prop(input_data, output_data, seq_lenth, weigth, prev_s, layers):\n",
        "    #input_data et output_data sont les entrées et sortie d'un example du dataset\n",
        "    #weigth est un dictionaire de l'ensemble des matrices de poids\n",
        "    #prev est l'etat precedant de la sortie active\n",
        "  \n",
        "    U, V, W = weigth['U'], weigth['V'], weigth['W']\n",
        "    \n",
        "    for t in range(seq_lenth):\n",
        "        new_input = np.zeros(input_data.shape)\n",
        "        new_input[t] = input_data[t]\n",
        "        mulu = np.dot(U, new_input)\n",
        "        mulw = np.dot(W, prev_s)\n",
        "        add = mulw + mulu\n",
        "        s = fw_sigmoid(add)\n",
        "        y_pred = np.dot(V, s)\n",
        "        layers.append({'s':s, 'prev_s':prev_s})\n",
        "        prev_s = s\n",
        "        \n",
        "    cache = (mulu, mulw, add)\n",
        "    loss_per_record = (output_data - y_pred)**2 / 2\n",
        "    return y_pred, layers, cache, loss_per_record \n",
        "    "
      ]
    },
    {
      "cell_type": "markdown",
      "metadata": {
        "id": "7uOD83fat_-C"
      },
      "source": [
        "Back propagation"
      ]
    },
    {
      "cell_type": "code",
      "execution_count": null,
      "metadata": {
        "id": "-w6T5-8At_-E"
      },
      "outputs": [],
      "source": [
        "\n",
        "def cliping(derivate, min_clip_val, max_clip_val):\n",
        "    dU, dW, dV = derivate\n",
        "    \n",
        "    if dU.max() > max_clip_val:\n",
        "        dU[dU > max_clip_val] = max_clip_val\n",
        "    if dV.max() > max_clip_val:\n",
        "        dV[dV > max_clip_val] = max_clip_val\n",
        "    if dW.max() > max_clip_val:\n",
        "        dW[dW > max_clip_val] = max_clip_val\n",
        "                \n",
        "            \n",
        "    if dU.min() < min_clip_val:\n",
        "        dU[dU < min_clip_val] = min_clip_val\n",
        "    if dV.min() < min_clip_val:\n",
        "        dV[dV < min_clip_val] = min_clip_val\n",
        "    if dW.min() < min_clip_val:\n",
        "        dW[dW < min_clip_val] = min_clip_val\n",
        "        \n",
        "    derivate_cliped = (dU, dW, dV)\n",
        "    \n",
        "    return derivate_cliped   "
      ]
    },
    {
      "cell_type": "code",
      "execution_count": null,
      "metadata": {
        "id": "u7z7TsfSt_-F"
      },
      "outputs": [],
      "source": [
        "def back_prop(input_data, seq_lenth, derivate_pred, weigth, cache, layers, bptt_trunc,min_clip_val, max_clip_val):\n",
        "    \n",
        "    U, V, W = weigth['U'], weigth['V'], weigth['W']\n",
        "    mulu, mulw, add = cache\n",
        "    \n",
        "    dU = np.zeros(U.shape)\n",
        "    dV = np.zeros(V.shape)\n",
        "    dW = np.zeros(W.shape)\n",
        "        \n",
        "    dU_t = np.zeros(U.shape)\n",
        "    dV_t = np.zeros(V.shape)\n",
        "    dW_t = np.zeros(W.shape)\n",
        "        \n",
        "    dU_i = np.zeros(U.shape)\n",
        "    dW_i = np.zeros(W.shape)\n",
        "    \n",
        "    for t in range(seq_lenth):\n",
        "        dV_t = np.dot(derivate_pred, np.transpose(layers[t]['s']))\n",
        "        dsv = np.dot(np.transpose(V), derivate_pred)\n",
        "            \n",
        "        ds = dsv\n",
        "        dadd = bw_sigmoid(ds, add)\n",
        "            \n",
        "        dmulw = dadd * np.ones_like(mulw)\n",
        "\n",
        "        dprev_s = np.dot(np.transpose(W), dmulw)\n",
        "\n",
        "\n",
        "        for i in range(t-1, max(-1, t - bptt_trunc - 1), -1):\n",
        "            ds = dsv + dprev_s\n",
        "            dadd = bw_sigmoid(ds, add)\n",
        "\n",
        "            dmulw = dadd * np.ones_like(mulw)\n",
        "            dmulu = dadd * np.ones_like(mulu)\n",
        "\n",
        "            dW_i = np.dot(W, layers[t]['prev_s'])\n",
        "            dprev_s = np.dot(np.transpose(W), dmulw)\n",
        "\n",
        "            new_input = np.zeros(input_data.shape)\n",
        "            new_input[t] = input_data[t]\n",
        "            dU_i = np.dot(U, new_input)\n",
        "            dx = np.dot(np.transpose(U), dmulu)\n",
        "\n",
        "            dU_t += dU_i\n",
        "            dW_t += dW_i\n",
        "                \n",
        "        dV += dV_t\n",
        "        dU += dU_t\n",
        "        dW += dW_t\n",
        "        \n",
        "        derivate = (dU, dW, dV)\n",
        "        derivate = cliping(derivate, min_clip_val, max_clip_val)\n",
        "        \n",
        "    return derivate"
      ]
    },
    {
      "cell_type": "markdown",
      "metadata": {
        "id": "UQWy0h0Xt_-H"
      },
      "source": [
        "Entrainement "
      ]
    },
    {
      "cell_type": "code",
      "execution_count": null,
      "metadata": {
        "id": "yPFAAu12t_-I"
      },
      "outputs": [],
      "source": [
        "def train_rnn(X, Y,alpha, nepoch, seq_lenth, hidden_dim, output_dim, bptt_trunc, min_clip_val, max_clip_val):\n",
        "    #U, V, W = weigth['U'], weigth['V'], weigth['W']\n",
        "    weigth = init_weigth(hidden_dim, output_dim , seq_lenth)\n",
        "    print(weigth['U'][1,1])\n",
        "\n",
        "    for epoch in range(nepoch):\n",
        "        loss = []\n",
        "        for i in range(Y.shape[0]):\n",
        "            x, y = X[i], Y[i]\n",
        "            #T = x.shape[0]\n",
        "    \n",
        "            layers = []\n",
        "            prev_s = np.zeros((hidden_dim, 1))\n",
        "        \n",
        "        #propagation avant\n",
        "            y_pred, layers, cache, loss_per_record = foward_prop(x, y, seq_lenth, weigth, prev_s, layers)\n",
        "            loss.append(loss_per_record)\n",
        "\n",
        "            derivate_pred = (y_pred - y)\n",
        "        \n",
        "        #propagation arrière\n",
        "            derivate_weigth = back_prop(x, seq_lenth, derivate_pred, weigth, cache, layers, bptt_trunc, min_clip_val, max_clip_val)\n",
        "            dU, dW, dV = derivate_weigth\n",
        "            \n",
        "            weigth['U'] -= (alpha * dU)\n",
        "            weigth['V'] -= (alpha * dV)\n",
        "            weigth['W'] -= (alpha * dW)\n",
        "            #print('weigth['U'][1,1] = ' ,weigth['U'][1,1])\n",
        "\n",
        "        total_loss = sum(loss) / float(y.shape[0])\n",
        "        print('Epoch: ', epoch + 1, ', Loss: ', total_loss)\n",
        "        #print('dU[1,1] = ' ,dU[1,1])\n",
        "        #print('weigth[\\'U\\'][1,1] = ' ,weigth['U'][1,1])\n",
        "        #print('')\n",
        "    return weigth"
      ]
    },
    {
      "cell_type": "markdown",
      "metadata": {
        "id": "-UnhQsPrt_-K"
      },
      "source": [
        "Prédictions"
      ]
    },
    {
      "cell_type": "code",
      "execution_count": null,
      "metadata": {
        "id": "nHgKpNwRt_-K"
      },
      "outputs": [],
      "source": [
        "def prediction(X, seq_lenth, weigth ,hidden_dim):\n",
        "    U, V, W = weigth['U'], weigth['V'], weigth['W']\n",
        "    preds = []\n",
        "    for i in range(Y.shape[0]):\n",
        "        x, y = X[i], Y[i]\n",
        "        prev_s = np.zeros((hidden_dim, 1))\n",
        "        # Forward pass\n",
        "        for t in range(seq_lenth):\n",
        "            mulu = np.dot(U, x)\n",
        "            mulw = np.dot(W, prev_s)\n",
        "            add = mulw + mulu\n",
        "            s = fw_sigmoid(add)\n",
        "            y_pred = np.dot(V, s)\n",
        "            prev_s = s\n",
        "\n",
        "        preds.append(y_pred)\n",
        "    \n",
        "    preds = np.array(preds)\n",
        "    \n",
        "    return preds"
      ]
    },
    {
      "cell_type": "markdown",
      "metadata": {
        "id": "kUi8jtZat_-L"
      },
      "source": [
        "EXPERIMENTATION"
      ]
    },
    {
      "cell_type": "markdown",
      "metadata": {
        "id": "_AAifw9xt_-M"
      },
      "source": [
        "Initialisation des paramètres du model"
      ]
    },
    {
      "cell_type": "code",
      "execution_count": null,
      "metadata": {
        "id": "Hsibjb_kt_-N"
      },
      "outputs": [],
      "source": [
        "#RNN architecture\n",
        "\n",
        "learning_rate = 0.0001    \n",
        "nepoch = 25               \n",
        "T = 50               # length of sequence\n",
        "hidden_dimesion = 100         \n",
        "output_dimesion = 1\n",
        "\n",
        "bptt_truncate = 5\n",
        "min_clip_value = -10\n",
        "max_clip_value = 10"
      ]
    },
    {
      "cell_type": "code",
      "source": [
        "#weigth = init_weigth(hidden_dim, output_dim , T)\n",
        "#print(weigth['U'][1,1])"
      ],
      "metadata": {
        "id": "Zt5Y4oijvutw"
      },
      "execution_count": null,
      "outputs": []
    },
    {
      "cell_type": "markdown",
      "metadata": {
        "id": "3EjZJC7Bt_-O"
      },
      "source": [
        "Entrainement du model"
      ]
    },
    {
      "cell_type": "code",
      "execution_count": null,
      "metadata": {
        "scrolled": true,
        "colab": {
          "base_uri": "https://localhost:8080/"
        },
        "id": "H7NInlpTt_-Q",
        "outputId": "d41a35b8-c715-4988-e232-3f3089c4a182"
      },
      "outputs": [
        {
          "output_type": "stream",
          "name": "stdout",
          "text": [
            "0.17670947624099853\n",
            "Epoch:  1 , Loss:  [[88998.21038554]]\n",
            "Epoch:  2 , Loss:  [[51912.14241113]]\n",
            "Epoch:  3 , Loss:  [[24826.07397808]]\n",
            "Epoch:  4 , Loss:  [[7736.68962554]]\n",
            "Epoch:  5 , Loss:  [[580.21010423]]\n",
            "Epoch:  6 , Loss:  [[22.38632457]]\n",
            "Epoch:  7 , Loss:  [[18.31770822]]\n",
            "Epoch:  8 , Loss:  [[18.52987225]]\n",
            "Epoch:  9 , Loss:  [[18.7867647]]\n",
            "Epoch:  10 , Loss:  [[18.2127295]]\n",
            "Epoch:  11 , Loss:  [[18.12354122]]\n",
            "Epoch:  12 , Loss:  [[17.82281101]]\n",
            "Epoch:  13 , Loss:  [[18.52842403]]\n",
            "Epoch:  14 , Loss:  [[18.49167382]]\n",
            "Epoch:  15 , Loss:  [[18.41215045]]\n",
            "Epoch:  16 , Loss:  [[18.57600021]]\n",
            "Epoch:  17 , Loss:  [[18.80237338]]\n",
            "Epoch:  18 , Loss:  [[18.82570974]]\n",
            "Epoch:  19 , Loss:  [[19.17056325]]\n",
            "Epoch:  20 , Loss:  [[19.12688848]]\n",
            "Epoch:  21 , Loss:  [[19.14586094]]\n",
            "Epoch:  22 , Loss:  [[19.12631592]]\n",
            "Epoch:  23 , Loss:  [[19.17072576]]\n",
            "Epoch:  24 , Loss:  [[19.05801888]]\n",
            "Epoch:  25 , Loss:  [[19.09194728]]\n"
          ]
        }
      ],
      "source": [
        "start = time.time()\n",
        "new_weigth = train_rnn(X, Y, learning_rate, nepoch, T, hidden_dimesion, output_dimesion, bptt_truncate, min_clip_value, max_clip_value)\n",
        "end = time.time()"
      ]
    },
    {
      "cell_type": "code",
      "execution_count": null,
      "metadata": {
        "colab": {
          "base_uri": "https://localhost:8080/"
        },
        "id": "nzdiVJpSt_-R",
        "outputId": "b84128af-25fb-4860-aeb2-27b4c94fa10a"
      },
      "outputs": [
        {
          "output_type": "stream",
          "name": "stdout",
          "text": [
            "L'entrainement à durée 71.63318014144897 s\n"
          ]
        }
      ],
      "source": [
        "#prediction\n",
        "Y_true = prediction(X, T, new_weigth, hidden_dimesion)\n",
        "\n",
        "#print('new_weigth[\\'U\\'][1,1]', new_weigth['U'][1,1])\n",
        "#print('length of preds = ' ,Y_true.shape)\n",
        "#print('Y_true[1] =' , Y_true[1 ,0], 'Y[1] =', Y[1])\n",
        "\n",
        "time_done = end - start\n",
        "print(\"L'entrainement à durée\", time_done, \"s\" )"
      ]
    },
    {
      "cell_type": "code",
      "source": [
        "for i in range(Y.shape[0]):\n",
        "    print(i + 1,': Y predit =' , Y_true[i ,0], '   |Y reel =', Y[i])"
      ],
      "metadata": {
        "colab": {
          "base_uri": "https://localhost:8080/"
        },
        "id": "_zhKeZMzxSdl",
        "outputId": "002e9cd5-ec66-4a71-df64-ea6128eaab95"
      },
      "execution_count": null,
      "outputs": [
        {
          "output_type": "stream",
          "name": "stdout",
          "text": [
            "1 : Y predit = [-0.48885684]  |Y reel = [-0.26237485]\n",
            "2 : Y predit = [0.54214614]  |Y reel = [0.67022918]\n",
            "3 : Y predit = [1.25482916]  |Y reel = [0.98662759]\n",
            "4 : Y predit = [0.6652546]  |Y reel = [0.39592515]\n",
            "5 : Y predit = [-0.45282572]  |Y reel = [-0.55878905]\n",
            "6 : Y predit = [-1.29812571]  |Y reel = [-0.99975517]\n",
            "7 : Y predit = [-0.87165241]  |Y reel = [-0.521551]\n",
            "8 : Y predit = [0.27667192]  |Y reel = [0.43616476]\n",
            "9 : Y predit = [1.19594709]  |Y reel = [0.99287265]\n",
            "10 : Y predit = [1.00675725]  |Y reel = [0.63673801]\n",
            "11 : Y predit = [-0.18664052]  |Y reel = [-0.30481062]\n",
            "12 : Y predit = [-1.18744541]  |Y reel = [-0.96611777]\n",
            "13 : Y predit = [-1.14065115]  |Y reel = [-0.7391807]\n",
            "14 : Y predit = [0.01377518]  |Y reel = [0.1673557]\n",
            "15 : Y predit = [1.00020991]  |Y reel = [0.92002604]\n",
            "16 : Y predit = [1.18193824]  |Y reel = [0.82682868]\n",
            "17 : Y predit = [0.09987388]  |Y reel = [-0.02655115]\n",
            "18 : Y predit = [-0.92349397]  |Y reel = [-0.85551998]\n",
            "19 : Y predit = [-1.26628987]  |Y reel = [-0.89792768]\n",
            "20 : Y predit = [-0.29460421]  |Y reel = [-0.11478481]\n",
            "21 : Y predit = [0.69953404]  |Y reel = [0.77389068]\n",
            "22 : Y predit = [1.24923768]  |Y reel = [0.95105465]\n",
            "23 : Y predit = [0.45281663]  |Y reel = [0.25382336]\n",
            "24 : Y predit = [-0.60516799]  |Y reel = [-0.67677196]\n",
            "25 : Y predit = [-1.30744809]  |Y reel = [-0.98514626]\n",
            "26 : Y predit = [-0.67199259]  |Y reel = [-0.38778164]\n",
            "27 : Y predit = [0.41403994]  |Y reel = [0.56610764]\n",
            "28 : Y predit = [1.24072239]  |Y reel = [0.99952016]\n",
            "29 : Y predit = [0.84369536]  |Y reel = [0.51397846]\n",
            "30 : Y predit = [-0.32714917]  |Y reel = [-0.44411267]\n",
            "31 : Y predit = [-1.26459899]  |Y reel = [-0.99388865]\n",
            "32 : Y predit = [-1.01903185]  |Y reel = [-0.62988799]\n",
            "33 : Y predit = [0.15621214]  |Y reel = [0.31322878]\n",
            "34 : Y predit = [1.123314]  |Y reel = [0.96836446]\n",
            "35 : Y predit = [1.10728869]  |Y reel = [0.73319032]\n",
            "36 : Y predit = [-0.05794956]  |Y reel = [-0.17607562]\n",
            "37 : Y predit = [-1.08037693]  |Y reel = [-0.92345845]\n",
            "38 : Y predit = [-1.21291989]  |Y reel = [-0.82181784]\n",
            "39 : Y predit = [-0.12237167]  |Y reel = [0.0353983]\n",
            "40 : Y predit = [0.86419875]  |Y reel = [0.86006941]\n",
            "41 : Y predit = [1.2233462]  |Y reel = [0.89399666]\n",
            "42 : Y predit = [0.25513111]  |Y reel = [0.10598751]\n",
            "43 : Y predit = [-0.77173715]  |Y reel = [-0.77946607]\n",
            "44 : Y predit = [-1.29439102]  |Y reel = [-0.94828214]\n",
            "45 : Y predit = [-0.4649877]  |Y reel = [-0.24525199]\n",
            "46 : Y predit = [0.55997841]  |Y reel = [0.68326171]\n",
            "47 : Y predit = [1.25526867]  |Y reel = [0.98358775]\n",
            "48 : Y predit = [0.64022473]  |Y reel = [0.37960774]\n",
            "49 : Y predit = [-0.47006876]  |Y reel = [-0.57338187]\n",
            "50 : Y predit = [-1.30061136]  |Y reel = [-0.99920683]\n",
            "51 : Y predit = [-0.84951333]  |Y reel = [-0.50636564]\n",
            "52 : Y predit = [0.29265022]  |Y reel = [0.45202579]\n",
            "53 : Y predit = [1.20312736]  |Y reel = [0.99482679]\n",
            "54 : Y predit = [0.99032472]  |Y reel = [0.62298863]\n",
            "55 : Y predit = [-0.20333609]  |Y reel = [-0.3216224]\n",
            "56 : Y predit = [-1.1989632]  |Y reel = [-0.97053528]\n",
            "57 : Y predit = [-1.1287533]  |Y reel = [-0.7271425]\n",
            "58 : Y predit = [0.03107148]  |Y reel = [0.18478174]\n",
            "59 : Y predit = [1.0167344]  |Y reel = [0.92681851]\n",
            "60 : Y predit = [1.17486674]  |Y reel = [0.81674261]\n",
            "61 : Y predit = [0.0804214]  |Y reel = [-0.04424268]\n",
            "62 : Y predit = [-0.94325128]  |Y reel = [-0.86455145]\n",
            "63 : Y predit = [-1.26129399]  |Y reel = [-0.8899956]\n",
            "64 : Y predit = [-0.27318439]  |Y reel = [-0.09718191]\n",
            "65 : Y predit = [0.7187952]  |Y reel = [0.78498039]\n",
            "66 : Y predit = [1.24724424]  |Y reel = [0.94543533]\n",
            "67 : Y predit = [0.42845705]  |Y reel = [0.23666139]\n",
            "68 : Y predit = [-0.62405887]  |Y reel = [-0.68969794]\n",
            "69 : Y predit = [-1.30697097]  |Y reel = [-0.98195217]\n",
            "70 : Y predit = [-0.64745787]  |Y reel = [-0.3714041]\n",
            "71 : Y predit = [0.43062324]  |Y reel = [0.58061118]\n",
            "72 : Y predit = [1.24381083]  |Y reel = [0.99881522]\n",
            "73 : Y predit = [0.82131731]  |Y reel = [0.49871315]\n",
            "74 : Y predit = [-0.34366434]  |Y reel = [-0.45990349]\n",
            "75 : Y predit = [-1.27075496]  |Y reel = [-0.99568699]\n",
            "76 : Y predit = [-1.00149767]  |Y reel = [-0.61604046]\n",
            "77 : Y predit = [0.17244259]  |Y reel = [0.32999083]\n",
            "78 : Y predit = [1.13498918]  |Y reel = [0.97263007]\n",
            "79 : Y predit = [1.09602215]  |Y reel = [0.72103771]\n",
            "80 : Y predit = [-0.0755645]  |Y reel = [-0.19347339]\n",
            "81 : Y predit = [-1.09665558]  |Y reel = [-0.93010595]\n",
            "82 : Y predit = [-1.20483022]  |Y reel = [-0.81160339]\n",
            "83 : Y predit = [-0.10346386]  |Y reel = [0.05308359]\n",
            "84 : Y predit = [0.8832517]  |Y reel = [0.86896576]\n",
            "85 : Y predit = [1.21890909]  |Y reel = [0.88592482]\n",
            "86 : Y predit = [0.23339518]  |Y reel = [0.08836869]\n",
            "87 : Y predit = [-0.79201454]  |Y reel = [-0.79043321]\n",
            "88 : Y predit = [-1.29155334]  |Y reel = [-0.94251445]\n",
            "89 : Y predit = [-0.44134957]  |Y reel = [-0.22805226]\n",
            "90 : Y predit = [0.57800298]  |Y reel = [0.69608013]\n",
            "91 : Y predit = [1.25540229]  |Y reel = [0.98023966]\n",
            "92 : Y predit = [0.61509234]  |Y reel = [0.36317137]\n",
            "93 : Y predit = [-0.48747098]  |Y reel = [-0.58779501]\n",
            "94 : Y predit = [-1.30269185]  |Y reel = [-0.99834536]\n",
            "95 : Y predit = [-0.82690717]  |Y reel = [-0.49102159]\n",
            "96 : Y predit = [0.30864858]  |Y reel = [0.46774516]\n",
            "97 : Y predit = [1.20975958]  |Y reel = [0.99646917]\n",
            "98 : Y predit = [0.97313717]  |Y reel = [0.60904402]\n",
            "99 : Y predit = [-0.21995991]  |Y reel = [-0.33833339]\n",
            "100 : Y predit = [-1.20981348]  |Y reel = [-0.97464865]\n"
          ]
        }
      ]
    },
    {
      "cell_type": "markdown",
      "metadata": {
        "id": "Mdt9vyQXt_-S"
      },
      "source": [
        "Visualisation des résultat"
      ]
    },
    {
      "cell_type": "code",
      "execution_count": null,
      "metadata": {
        "colab": {
          "base_uri": "https://localhost:8080/",
          "height": 265
        },
        "id": "z9J7KUkWt_-S",
        "outputId": "e523247f-9dfc-4799-acc8-9604934a8b3f"
      },
      "outputs": [
        {
          "output_type": "display_data",
          "data": {
            "text/plain": [
              "<Figure size 432x288 with 1 Axes>"
            ],
            "image/png": "[encoded data removed]"
          },
          "metadata": {
            "needs_background": "light"
          }
        }
      ],
      "source": [
        "#plt.plot(Y_true[:, 0, 0], 'g')\n",
        "#plt.plot(Y[:, 0], 'r')\n",
        "#plt.show()"
      ]
    },
    {
      "cell_type": "code",
      "source": [
        ""
      ],
      "metadata": {
        "id": "HcwtDTTO0QZv"
      },
      "execution_count": null,
      "outputs": []
    }
  ],
  "metadata": {
    "interpreter": {
      "hash": "f7f66d80f6352f88db17d0038dccbdccff92cf336fb090366febb0d04000ecf8"
    },
    "kernelspec": {
      "display_name": "Python 3",
      "language": "python",
      "name": "python3"
    },
    "language_info": {
      "codemirror_mode": {
        "name": "ipython",
        "version": 3
      },
      "file_extension": ".py",
      "mimetype": "text/x-python",
      "name": "python",
      "nbconvert_exporter": "python",
      "pygments_lexer": "ipython3",
      "version": "3.7.6"
    },
    "colab": {
      "name": "RNN_python.ipynb",
      "provenance": [],
      "collapsed_sections": [],
      "include_colab_link": true
    }
  },
  "nbformat": 4,
  "nbformat_minor": 0
}